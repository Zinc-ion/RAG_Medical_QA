{
 "cells": [
  {
   "cell_type": "code",
   "id": "initial_id",
   "metadata": {
    "collapsed": true,
    "ExecuteTime": {
     "end_time": "2025-04-28T03:35:58.833600Z",
     "start_time": "2025-04-28T03:35:58.825603Z"
    }
   },
   "source": [
    "for i in range(1, 24):\n",
    "    print(i)"
   ],
   "outputs": [
    {
     "name": "stdout",
     "output_type": "stream",
     "text": [
      "1\n",
      "2\n",
      "3\n",
      "4\n",
      "5\n",
      "6\n",
      "7\n",
      "8\n",
      "9\n",
      "10\n",
      "11\n",
      "12\n",
      "13\n",
      "14\n",
      "15\n",
      "16\n",
      "17\n",
      "18\n",
      "19\n",
      "20\n",
      "21\n",
      "22\n",
      "23\n"
     ]
    }
   ],
   "execution_count": 1
  },
  {
   "metadata": {
    "ExecuteTime": {
     "end_time": "2025-04-28T03:36:58.548951Z",
     "start_time": "2025-04-28T03:36:58.536952Z"
    }
   },
   "cell_type": "code",
   "source": [
    "for i in range(1, 24):\n",
    "    print(f\"D://learn_pytorch//LightRAG_QA_Sys//LightRAG//doc//medical-books//CT诊断学//content//chap{i:02d}.txt\")"
   ],
   "id": "4a35e2197d20ad6",
   "outputs": [
    {
     "name": "stdout",
     "output_type": "stream",
     "text": [
      "D://learn_pytorch//LightRAG_QA_Sys//LightRAG//doc//medical-books//CT诊断学//content//chap01.txt\n",
      "D://learn_pytorch//LightRAG_QA_Sys//LightRAG//doc//medical-books//CT诊断学//content//chap02.txt\n",
      "D://learn_pytorch//LightRAG_QA_Sys//LightRAG//doc//medical-books//CT诊断学//content//chap03.txt\n",
      "D://learn_pytorch//LightRAG_QA_Sys//LightRAG//doc//medical-books//CT诊断学//content//chap04.txt\n",
      "D://learn_pytorch//LightRAG_QA_Sys//LightRAG//doc//medical-books//CT诊断学//content//chap05.txt\n",
      "D://learn_pytorch//LightRAG_QA_Sys//LightRAG//doc//medical-books//CT诊断学//content//chap06.txt\n",
      "D://learn_pytorch//LightRAG_QA_Sys//LightRAG//doc//medical-books//CT诊断学//content//chap07.txt\n",
      "D://learn_pytorch//LightRAG_QA_Sys//LightRAG//doc//medical-books//CT诊断学//content//chap08.txt\n",
      "D://learn_pytorch//LightRAG_QA_Sys//LightRAG//doc//medical-books//CT诊断学//content//chap09.txt\n",
      "D://learn_pytorch//LightRAG_QA_Sys//LightRAG//doc//medical-books//CT诊断学//content//chap10.txt\n",
      "D://learn_pytorch//LightRAG_QA_Sys//LightRAG//doc//medical-books//CT诊断学//content//chap11.txt\n",
      "D://learn_pytorch//LightRAG_QA_Sys//LightRAG//doc//medical-books//CT诊断学//content//chap12.txt\n",
      "D://learn_pytorch//LightRAG_QA_Sys//LightRAG//doc//medical-books//CT诊断学//content//chap13.txt\n",
      "D://learn_pytorch//LightRAG_QA_Sys//LightRAG//doc//medical-books//CT诊断学//content//chap14.txt\n",
      "D://learn_pytorch//LightRAG_QA_Sys//LightRAG//doc//medical-books//CT诊断学//content//chap15.txt\n",
      "D://learn_pytorch//LightRAG_QA_Sys//LightRAG//doc//medical-books//CT诊断学//content//chap16.txt\n",
      "D://learn_pytorch//LightRAG_QA_Sys//LightRAG//doc//medical-books//CT诊断学//content//chap17.txt\n",
      "D://learn_pytorch//LightRAG_QA_Sys//LightRAG//doc//medical-books//CT诊断学//content//chap18.txt\n",
      "D://learn_pytorch//LightRAG_QA_Sys//LightRAG//doc//medical-books//CT诊断学//content//chap19.txt\n",
      "D://learn_pytorch//LightRAG_QA_Sys//LightRAG//doc//medical-books//CT诊断学//content//chap20.txt\n",
      "D://learn_pytorch//LightRAG_QA_Sys//LightRAG//doc//medical-books//CT诊断学//content//chap21.txt\n",
      "D://learn_pytorch//LightRAG_QA_Sys//LightRAG//doc//medical-books//CT诊断学//content//chap22.txt\n",
      "D://learn_pytorch//LightRAG_QA_Sys//LightRAG//doc//medical-books//CT诊断学//content//chap23.txt\n"
     ]
    }
   ],
   "execution_count": 3
  },
  {
   "metadata": {},
   "cell_type": "code",
   "outputs": [],
   "execution_count": null,
   "source": "",
   "id": "c52cc0a0e1297839"
  }
 ],
 "metadata": {
  "kernelspec": {
   "display_name": "Python 3",
   "language": "python",
   "name": "python3"
  },
  "language_info": {
   "codemirror_mode": {
    "name": "ipython",
    "version": 2
   },
   "file_extension": ".py",
   "mimetype": "text/x-python",
   "name": "python",
   "nbconvert_exporter": "python",
   "pygments_lexer": "ipython2",
   "version": "2.7.6"
  }
 },
 "nbformat": 4,
 "nbformat_minor": 5
}
